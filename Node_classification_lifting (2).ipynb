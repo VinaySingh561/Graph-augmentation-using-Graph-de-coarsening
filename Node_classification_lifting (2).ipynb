{
  "cells": [
    {
      "cell_type": "code",
      "execution_count": null,
      "metadata": {
        "colab": {
          "base_uri": "https://localhost:8080/",
          "height": 765
        },
        "id": "hFwLefIsTwZL",
        "outputId": "6bc0b3ce-2e76-4602-fc5a-0660445afad7"
      },
      "outputs": [
        {
          "output_type": "stream",
          "name": "stdout",
          "text": [
            "Looking in indexes: https://pypi.org/simple, https://us-python.pkg.dev/colab-wheels/public/simple/\n",
            "Looking in links: https://data.pyg.org/whl/torch-2.0.0+cu118.html\n",
            "Collecting torch-scatter\n",
            "  Downloading https://data.pyg.org/whl/torch-2.0.0%2Bcu118/torch_scatter-2.1.1%2Bpt20cu118-cp310-cp310-linux_x86_64.whl (10.2 MB)\n",
            "\u001b[2K     \u001b[90m━━━━━━━━━━━━━━━━━━━━━━━━━━━━━━━━━━━━━━━━\u001b[0m \u001b[32m10.2/10.2 MB\u001b[0m \u001b[31m51.2 MB/s\u001b[0m eta \u001b[36m0:00:00\u001b[0m\n",
            "\u001b[?25hCollecting torch-sparse\n",
            "  Downloading https://data.pyg.org/whl/torch-2.0.0%2Bcu118/torch_sparse-0.6.17%2Bpt20cu118-cp310-cp310-linux_x86_64.whl (4.8 MB)\n",
            "\u001b[2K     \u001b[90m━━━━━━━━━━━━━━━━━━━━━━━━━━━━━━━━━━━━━━━━\u001b[0m \u001b[32m4.8/4.8 MB\u001b[0m \u001b[31m61.1 MB/s\u001b[0m eta \u001b[36m0:00:00\u001b[0m\n",
            "\u001b[?25hRequirement already satisfied: scipy in /usr/local/lib/python3.10/dist-packages (from torch-sparse) (1.10.1)\n",
            "Requirement already satisfied: numpy<1.27.0,>=1.19.5 in /usr/local/lib/python3.10/dist-packages (from scipy->torch-sparse) (1.22.4)\n",
            "Installing collected packages: torch-scatter, torch-sparse\n",
            "Successfully installed torch-scatter-2.1.1+pt20cu118 torch-sparse-0.6.17+pt20cu118\n",
            "Looking in indexes: https://pypi.org/simple, https://us-python.pkg.dev/colab-wheels/public/simple/\n",
            "Collecting torch-geometric\n",
            "  Downloading torch_geometric-2.3.1.tar.gz (661 kB)\n",
            "\u001b[2K     \u001b[90m━━━━━━━━━━━━━━━━━━━━━━━━━━━━━━━━━━━━━━\u001b[0m \u001b[32m661.6/661.6 kB\u001b[0m \u001b[31m47.0 MB/s\u001b[0m eta \u001b[36m0:00:00\u001b[0m\n",
            "\u001b[?25h  Installing build dependencies ... \u001b[?25l\u001b[?25hdone\n",
            "  Getting requirements to build wheel ... \u001b[?25l\u001b[?25hdone\n",
            "  Preparing metadata (pyproject.toml) ... \u001b[?25l\u001b[?25hdone\n",
            "Requirement already satisfied: tqdm in /usr/local/lib/python3.10/dist-packages (from torch-geometric) (4.65.0)\n",
            "Requirement already satisfied: numpy in /usr/local/lib/python3.10/dist-packages (from torch-geometric) (1.22.4)\n",
            "Requirement already satisfied: scipy in /usr/local/lib/python3.10/dist-packages (from torch-geometric) (1.10.1)\n",
            "Requirement already satisfied: jinja2 in /usr/local/lib/python3.10/dist-packages (from torch-geometric) (3.1.2)\n",
            "Requirement already satisfied: requests in /usr/local/lib/python3.10/dist-packages (from torch-geometric) (2.27.1)\n",
            "Requirement already satisfied: pyparsing in /usr/local/lib/python3.10/dist-packages (from torch-geometric) (3.0.9)\n",
            "Requirement already satisfied: scikit-learn in /usr/local/lib/python3.10/dist-packages (from torch-geometric) (1.2.2)\n",
            "Requirement already satisfied: psutil>=5.8.0 in /usr/local/lib/python3.10/dist-packages (from torch-geometric) (5.9.5)\n",
            "Requirement already satisfied: MarkupSafe>=2.0 in /usr/local/lib/python3.10/dist-packages (from jinja2->torch-geometric) (2.1.2)\n",
            "Requirement already satisfied: urllib3<1.27,>=1.21.1 in /usr/local/lib/python3.10/dist-packages (from requests->torch-geometric) (1.26.15)\n",
            "Requirement already satisfied: certifi>=2017.4.17 in /usr/local/lib/python3.10/dist-packages (from requests->torch-geometric) (2022.12.7)\n",
            "Requirement already satisfied: charset-normalizer~=2.0.0 in /usr/local/lib/python3.10/dist-packages (from requests->torch-geometric) (2.0.12)\n",
            "Requirement already satisfied: idna<4,>=2.5 in /usr/local/lib/python3.10/dist-packages (from requests->torch-geometric) (3.4)\n",
            "Requirement already satisfied: joblib>=1.1.1 in /usr/local/lib/python3.10/dist-packages (from scikit-learn->torch-geometric) (1.2.0)\n",
            "Requirement already satisfied: threadpoolctl>=2.0.0 in /usr/local/lib/python3.10/dist-packages (from scikit-learn->torch-geometric) (3.1.0)\n",
            "Building wheels for collected packages: torch-geometric\n",
            "  Building wheel for torch-geometric (pyproject.toml) ... \u001b[?25l\u001b[?25hdone\n",
            "  Created wheel for torch-geometric: filename=torch_geometric-2.3.1-py3-none-any.whl size=910459 sha256=b75cfe10e00152386a68c5fa62072c9b094eaaf1edb053096af0975180187292\n",
            "  Stored in directory: /root/.cache/pip/wheels/ac/dc/30/e2874821ff308ee67dcd7a66dbde912411e19e35a1addda028\n",
            "Successfully built torch-geometric\n",
            "Installing collected packages: torch-geometric\n",
            "Successfully installed torch-geometric-2.3.1\n"
          ]
        },
        {
          "output_type": "display_data",
          "data": {
            "text/plain": [
              "<IPython.core.display.HTML object>"
            ],
            "text/html": [
              "<style>.container { width:90% !important; }</style>"
            ]
          },
          "metadata": {}
        }
      ],
      "source": [
        "# !pip install deeprobust\n",
        "# !conda install pytorch torchvision torchaudio -c pytorch\n",
        "import torch\n",
        "# print(torch.__version__)\n",
        "!pip install torch-scatter torch-sparse -f https://data.pyg.org/whl/torch-{torch.__version__}.html\n",
        "!pip install torch-geometric\n",
        "%load_ext autoreload\n",
        "%autoreload 2\n",
        "%matplotlib inline\n",
        "from IPython.core.display import display, HTML\n",
        "display(HTML(\"<style>.container { width:90% !important; }</style>\"))\n",
        "\n",
        "from networkx.generators.random_graphs import erdos_renyi_graph\n",
        "from networkx.generators.random_graphs import barabasi_albert_graph\n",
        "from networkx.generators.community import stochastic_block_model\n",
        "from networkx.generators.random_graphs import watts_strogatz_graph\n",
        "from networkx.generators.community import random_partition_graph\n",
        "\n",
        "import networkx as nx\n",
        "import numpy as np\n",
        "import matplotlib.pyplot as plt\n",
        "\n",
        "import math\n",
        "from tqdm import tqdm\n",
        "import seaborn as sns\n",
        "from sklearn.decomposition import FactorAnalysis\n",
        "\n",
        "import random\n",
        "\n"
      ]
    },
    {
      "cell_type": "code",
      "execution_count": null,
      "metadata": {
        "id": "dYuSfuanVdLy"
      },
      "outputs": [],
      "source": [
        "import os\n",
        "import collections\n",
        "import numpy as np\n",
        "import pandas as pd\n",
        "import matplotlib.pyplot as plt\n",
        "import seaborn as sns\n",
        "import scipy.sparse as sp\n",
        "import torch\n",
        "from torch import Tensor\n",
        "import torch_geometric\n",
        "from torch_geometric.utils import to_networkx\n",
        "from torch_geometric.datasets import Planetoid\n",
        "import networkx as nx\n",
        "from networkx.algorithms import community\n",
        "device = torch.device('cuda' if torch.cuda.is_available() else 'cpu')\n",
        "data_dir = \"./data\"\n",
        "os.makedirs(data_dir, exist_ok=True)"
      ]
    },
    {
      "cell_type": "code",
      "execution_count": null,
      "metadata": {
        "colab": {
          "base_uri": "https://localhost:8080/",
          "height": 53
        },
        "id": "rn5YNSFOog43",
        "outputId": "47d27efb-8d2f-43ae-d9eb-95b0952a69e8"
      },
      "outputs": [
        {
          "output_type": "stream",
          "name": "stdout",
          "text": [
            "The autoreload extension is already loaded. To reload it, use:\n",
            "  %reload_ext autoreload\n"
          ]
        },
        {
          "output_type": "display_data",
          "data": {
            "text/plain": [
              "<IPython.core.display.HTML object>"
            ],
            "text/html": [
              "<style>.container { width:90% !important; }</style>"
            ]
          },
          "metadata": {}
        }
      ],
      "source": [
        "import numpy\n",
        "import torch\n",
        "%load_ext autoreload\n",
        "%autoreload 2\n",
        "\n",
        "%matplotlib inline\n",
        "from IPython.core.display import display, HTML\n",
        "display(HTML(\"<style>.container { width:90% !important; }</style>\"))\n",
        "\n",
        "\n",
        "\n",
        "from networkx.generators.random_graphs import erdos_renyi_graph\n",
        "from networkx.generators.random_graphs import barabasi_albert_graph\n",
        "from networkx.generators.community import stochastic_block_model\n",
        "from networkx.generators.random_graphs import watts_strogatz_graph\n",
        "from networkx.generators.community import random_partition_graph\n",
        "import networkx as nx\n",
        "import numpy as np\n",
        "import matplotlib.pyplot as plt\n",
        "\n",
        "import math\n",
        "from tqdm import tqdm\n",
        "import seaborn as sns\n",
        "from sklearn.decomposition import FactorAnalysis\n",
        "import random"
      ]
    },
    {
      "cell_type": "code",
      "execution_count": null,
      "metadata": {
        "id": "1tCWvnpupR37"
      },
      "outputs": [],
      "source": [
        "from random import sample"
      ]
    },
    {
      "cell_type": "code",
      "execution_count": null,
      "metadata": {
        "id": "cKccKEapUqT4"
      },
      "outputs": [],
      "source": [
        "# from deeprobust.graph.data import Dataset"
      ]
    },
    {
      "cell_type": "code",
      "execution_count": null,
      "metadata": {
        "id": "l0NC0KhdT8JA"
      },
      "outputs": [],
      "source": [
        "from scipy.sparse import csr_matrix\n",
        "from scipy.sparse import csgraph\n",
        "from scipy.sparse.linalg import inv"
      ]
    },
    {
      "cell_type": "code",
      "execution_count": null,
      "metadata": {
        "colab": {
          "base_uri": "https://localhost:8080/",
          "height": 36
        },
        "id": "mJ-jDARZJt3K",
        "outputId": "35dce010-fce7-4cb4-e63b-615916d0eaba"
      },
      "outputs": [
        {
          "output_type": "execute_result",
          "data": {
            "text/plain": [
              "'/content'"
            ],
            "application/vnd.google.colaboratory.intrinsic+json": {
              "type": "string"
            }
          },
          "metadata": {},
          "execution_count": 8
        }
      ],
      "source": [
        "import os\n",
        "os.getcwd()"
      ]
    },
    {
      "cell_type": "code",
      "execution_count": null,
      "metadata": {
        "colab": {
          "base_uri": "https://localhost:8080/"
        },
        "id": "GjdM3BlzJt3K",
        "outputId": "168ed1cd-1903-4d27-cbe9-83a437cc7441"
      },
      "outputs": [
        {
          "output_type": "stream",
          "name": "stderr",
          "text": [
            "Downloading https://raw.githubusercontent.com/graphdml-uiuc-jlu/geom-gcn/master/new_data/wisconsin/out1_node_feature_label.txt\n",
            "Downloading https://raw.githubusercontent.com/graphdml-uiuc-jlu/geom-gcn/master/new_data/wisconsin/out1_graph_edges.txt\n",
            "Downloading https://raw.githubusercontent.com/graphdml-uiuc-jlu/geom-gcn/master/splits/wisconsin_split_0.6_0.2_0.npz\n",
            "Downloading https://raw.githubusercontent.com/graphdml-uiuc-jlu/geom-gcn/master/splits/wisconsin_split_0.6_0.2_1.npz\n",
            "Downloading https://raw.githubusercontent.com/graphdml-uiuc-jlu/geom-gcn/master/splits/wisconsin_split_0.6_0.2_2.npz\n",
            "Downloading https://raw.githubusercontent.com/graphdml-uiuc-jlu/geom-gcn/master/splits/wisconsin_split_0.6_0.2_3.npz\n",
            "Downloading https://raw.githubusercontent.com/graphdml-uiuc-jlu/geom-gcn/master/splits/wisconsin_split_0.6_0.2_4.npz\n",
            "Downloading https://raw.githubusercontent.com/graphdml-uiuc-jlu/geom-gcn/master/splits/wisconsin_split_0.6_0.2_5.npz\n",
            "Downloading https://raw.githubusercontent.com/graphdml-uiuc-jlu/geom-gcn/master/splits/wisconsin_split_0.6_0.2_6.npz\n",
            "Downloading https://raw.githubusercontent.com/graphdml-uiuc-jlu/geom-gcn/master/splits/wisconsin_split_0.6_0.2_7.npz\n",
            "Downloading https://raw.githubusercontent.com/graphdml-uiuc-jlu/geom-gcn/master/splits/wisconsin_split_0.6_0.2_8.npz\n",
            "Downloading https://raw.githubusercontent.com/graphdml-uiuc-jlu/geom-gcn/master/splits/wisconsin_split_0.6_0.2_9.npz\n",
            "Processing...\n",
            "Done!\n"
          ]
        },
        {
          "output_type": "execute_result",
          "data": {
            "text/plain": [
              "wisconsin()"
            ]
          },
          "metadata": {},
          "execution_count": 9
        }
      ],
      "source": [
        "from torch_geometric.datasets import WebKB\n",
        "from torch_geometric.utils import to_dense_adj,homophily\n",
        "dataset = WebKB(root='/wisconsin',name='wisconsin')\n",
        "# dataset = Planetoid(root=data_dir, name='Cora')\n",
        "# dataset = Planetoid(root=data_dir, name='Citeseer')\n",
        "# dataset = Planetoid(root=data_dir, name='PubMed')\n",
        "dataset"
      ]
    },
    {
      "cell_type": "code",
      "source": [
        "data = dataset[0]\n",
        "print(f'Number of nodes: {data.num_nodes}')\n",
        "print(f'Number of edges: {data.num_edges}')\n",
        "print(f'Number of classes: {dataset.num_classes}')"
      ],
      "metadata": {
        "colab": {
          "base_uri": "https://localhost:8080/"
        },
        "id": "dgwJ4LQoulay",
        "outputId": "36b9676b-0d66-4029-b42a-a0ff00d9f34f"
      },
      "execution_count": null,
      "outputs": [
        {
          "output_type": "stream",
          "name": "stdout",
          "text": [
            "Number of nodes: 251\n",
            "Number of edges: 515\n",
            "Number of classes: 5\n"
          ]
        }
      ]
    },
    {
      "cell_type": "code",
      "execution_count": null,
      "metadata": {
        "colab": {
          "base_uri": "https://localhost:8080/"
        },
        "id": "Ch6kq6OxM8Ur",
        "outputId": "b52b9ce1-1652-412a-a99c-7b77347bedb2"
      },
      "outputs": [
        {
          "output_type": "stream",
          "name": "stdout",
          "text": [
            "Homophilic ratio : 0.19611650705337524\n",
            "Sparsity of original graph : 0.016414342629482073\n",
            "torch.Size([251, 1703]) torch.Size([251, 251])\n",
            "torch.Size([251, 1703]) torch.Size([251, 251])\n"
          ]
        }
      ],
      "source": [
        "from torch_geometric.datasets import WebKB\n",
        "from torch_geometric.utils import to_dense_adj,homophily\n",
        "\n",
        "\n",
        "# dataset = WebKB(root='/Texas',name='Texas')\n",
        "# print(dataset[0])\n",
        "\n",
        "edge_list = dataset[0].edge_index\n",
        "NO_OF_EDGES = edge_list.shape[1]\n",
        "labels = dataset[0].y\n",
        "\n",
        "print(\"Homophilic ratio : \" + str(homophily(edge_list,labels,method='edge')))\n",
        "\n",
        "\n",
        "adj = to_dense_adj(dataset[0].edge_index)\n",
        "adj = adj[0]\n",
        "\n",
        "labels = labels.numpy()\n",
        "\n",
        "X = dataset[0].x\n",
        "X = X.to_dense()\n",
        "N = X.shape[0]\n",
        "NO_OF_CLASSES = 5\n",
        "\n",
        "sparsity_original = 2*NO_OF_EDGES/(N*(N-1))\n",
        "print(\"Sparsity of original graph : \" + str(sparsity_original))\n",
        "\n",
        "\n",
        "print(X.shape, adj.shape)\n",
        "\n",
        "nn = int(1*N)\n",
        "X = X[:nn,:]\n",
        "adj = adj[:nn,:nn]\n",
        "labels = labels[:nn]\n",
        "print(X.shape,adj.shape)\n",
        "\n",
        "# plot_graph(dataset[0])\n"
      ]
    },
    {
      "cell_type": "code",
      "execution_count": null,
      "metadata": {
        "id": "QfWeXw_6Jt3L"
      },
      "outputs": [],
      "source": []
    },
    {
      "cell_type": "code",
      "execution_count": null,
      "metadata": {
        "colab": {
          "base_uri": "https://localhost:8080/"
        },
        "id": "STsLjDMMN2bk",
        "outputId": "33f27bd1-f98a-4cdb-a472-766533e92997"
      },
      "outputs": [
        {
          "output_type": "stream",
          "name": "stdout",
          "text": [
            "torch.Size([251, 251])\n"
          ]
        }
      ],
      "source": [
        "def get_laplacian(adj):\n",
        "    b=torch.ones(adj.shape[0])\n",
        "    return torch.diag(adj@b)-adj\n",
        "\n",
        "theta = get_laplacian(adj)\n",
        "print(theta.shape)\n"
      ]
    },
    {
      "cell_type": "code",
      "execution_count": null,
      "metadata": {
        "colab": {
          "base_uri": "https://localhost:8080/"
        },
        "id": "BxPj9tu-YZjX",
        "outputId": "7a0d7451-79e8-4d75-cb85-d25520979951"
      },
      "outputs": [
        {
          "output_type": "stream",
          "name": "stdout",
          "text": [
            "5 251\n"
          ]
        }
      ],
      "source": [
        "# dataset_name = 'flickr' \n",
        "\n",
        "# data = Dataset(root='', name=dataset_name, setting='gcn',seed=10)\n",
        "\n",
        "# adj, features, labels = data.adj, data.features, data.labels\n",
        "# idx_train, idx_val, idx_test = data.idx_train, data.idx_val, data.idx_test\n",
        "\n",
        "# theta = csgraph.laplacian(adj).tocsr()\n",
        "features = X.numpy()\n",
        "NO_OF_NODES = X.shape[0]\n",
        "# NO_OF_CLASSES =  7\n",
        "\n",
        "\n",
        "print(NO_OF_CLASSES,NO_OF_NODES)"
      ]
    },
    {
      "cell_type": "code",
      "execution_count": null,
      "metadata": {
        "id": "YiN9k3_MueR-"
      },
      "outputs": [],
      "source": [
        "def convertScipyToTensor(coo):\n",
        "  try:\n",
        "    coo = coo.tocoo()\n",
        "  except:\n",
        "    coo = coo\n",
        "  values = coo.data\n",
        "  indices = np.vstack((coo.row, coo.col))\n",
        "\n",
        "  i = torch.LongTensor(indices)\n",
        "  v = torch.FloatTensor(values)\n",
        "  shape = coo.shape\n",
        "\n",
        "  return torch.sparse.FloatTensor(i, v, torch.Size(shape))"
      ]
    },
    {
      "cell_type": "code",
      "execution_count": null,
      "metadata": {
        "id": "Xla8XecUULkS"
      },
      "outputs": [],
      "source": [
        "from scipy.sparse import random\n",
        "from scipy.sparse.linalg import norm\n",
        "from scipy.sparse import csr_matrix\n",
        "\n",
        "p = X.shape[0]\n",
        "k = int(p*0.5)\n",
        "n = X.shape[1]\n",
        "lambda_param = 100\n",
        "beta_param = 50\n",
        "alpha_param = 100\n",
        "gamma_param = 100\n",
        "lr = 1e-5\n",
        "thresh = 1e-10\n",
        "\n",
        "from scipy.sparse import random\n",
        "from scipy.stats import rv_continuous\n",
        "class CustomDistribution(rv_continuous):\n",
        "    def _rvs(self,  size=None, random_state=None):\n",
        "        return random_state.standard_normal(size)\n",
        "temp = CustomDistribution(seed=1)\n",
        "temp2 = temp()  # get a frozen version of the distribution\n",
        "X_tilde = random(k, n, density=0.25, random_state=1, data_rvs=temp2.rvs)\n",
        "C = random(p, k, density=0.25, random_state=1, data_rvs=temp2.rvs)\n",
        "P = random(k, p, density=0.25, random_state=1, data_rvs=temp2.rvs)\n",
        "\n"
      ]
    },
    {
      "cell_type": "code",
      "execution_count": null,
      "metadata": {
        "id": "zni5bnJP9WF7"
      },
      "outputs": [],
      "source": [
        "def experiment(lambda_param,beta_param,alpha_param,gamma_param,C,X_tilde,theta,X):\n",
        "      p = X.shape[0]\n",
        "      k = int(p*0.5)\n",
        "      n = X.shape[1]\n",
        "      ones = csr_matrix(np.ones((k,k)))\n",
        "      ones = convertScipyToTensor(ones)\n",
        "      ones = ones.to_dense()\n",
        "      J = np.outer(np.ones(k), np.ones(k))/k\n",
        "      J = csr_matrix(J)\n",
        "      J = convertScipyToTensor(J)\n",
        "      J = J.to_dense()\n",
        "      zeros = csr_matrix(np.zeros((p,k)))\n",
        "      zeros = convertScipyToTensor(zeros)\n",
        "      zeros = zeros.to_dense()\n",
        "      X_tilde = convertScipyToTensor(X_tilde)\n",
        "      X_tilde = X_tilde.to_dense()\n",
        "      C = convertScipyToTensor(C)\n",
        "      C = C.to_dense()\n",
        "      eye = torch.eye(k)\n",
        "      try:\n",
        "        theta = convertScipyToTensor(theta)\n",
        "      except:\n",
        "        theta = theta\n",
        "      try:\n",
        "        X = convertScipyToTensor(X)\n",
        "        X = X.to_dense()\n",
        "      except:\n",
        "        X = X\n",
        "\n",
        "      # if(torch.cuda.is_available()):\n",
        "      #   # print(\"yes\")\n",
        "      #   X_tilde = X_tilde.cuda()\n",
        "      #   C = C.cuda()\n",
        "      #   theta = theta.cuda()\n",
        "      #   X = X.cuda()\n",
        "      #   J = J.cuda()\n",
        "      #   zeros = zeros.cuda()\n",
        "      #   ones = ones.cuda()\n",
        "      #   eye = eye.cuda()\n",
        "\n",
        "      def update(X_tilde,C,i):\n",
        "          global L\n",
        "          thetaC = theta@C\n",
        "          CT = torch.transpose(C,0,1)\n",
        "          X_tildeT = torch.transpose(X_tilde,0,1)\n",
        "          CX_tilde = C@X_tilde\n",
        "          t1 = CT@thetaC + J\n",
        "          term_bracket = torch.linalg.pinv(t1)\n",
        "          thetacX_tilde = thetaC@(X_tilde)\n",
        "          \n",
        "          L = 1/k\n",
        "\n",
        "          t1 = -2*gamma_param*(thetaC@term_bracket)\n",
        "          t2 = alpha_param*(CX_tilde-X)@(X_tildeT)\n",
        "          t3 = 2*thetacX_tilde@(X_tildeT)\n",
        "          t4 = lambda_param*(C@ones)\n",
        "          t5 = 2*beta_param*(thetaC@CT@thetaC)\n",
        "          T2 = (t1+t2+t3+t4+t5)/L\n",
        "          Cnew = (C-T2).maximum(zeros)\n",
        "          t1 = CT@thetaC*(2/alpha_param)\n",
        "          t2 = CT@C\n",
        "          t1 = torch.linalg.pinv(t1+t2)\n",
        "          t1 = t1@CT\n",
        "          t1 = t1@X\n",
        "          X_tilde_new = t1\n",
        "          Cnew[Cnew<thresh] = thresh\n",
        "          for i in range(len(Cnew)):\n",
        "              Cnew[i] = Cnew[i]/torch.linalg.norm(Cnew[i],1)\n",
        "          for i in range(len(X_tilde_new)):\n",
        "              X_tilde_new[i] = X_tilde_new[i]/torch.linalg.norm(X_tilde_new[i],1)\n",
        "          return X_tilde_new,Cnew\n",
        "\n",
        "\n",
        "      for i in tqdm(range(20)):\n",
        "          X_tilde,C = update(X_tilde,C,i)\n",
        "    \n",
        "      return X_tilde,C\n",
        "\n"
      ]
    },
    {
      "cell_type": "code",
      "source": [
        "def liftedexperiment(lambda_param,beta_param,alpha_param,gamma_param,P,Xd,theta_c,X_tilde):\n",
        "      p = Xd.shape[0]\n",
        "      # k = int(p*0.5)\n",
        "      n = Xd.shape[1]\n",
        "      \n",
        "      ones = csr_matrix(np.ones((p,p)))\n",
        "      ones = convertScipyToTensor(ones)\n",
        "      ones = ones.to_dense()\n",
        "      oness = csr_matrix(np.ones((k,p)))\n",
        "      oness = convertScipyToTensor(oness)\n",
        "      oness = oness.to_dense()\n",
        "      J = np.outer(np.ones(p), np.ones(p))/p\n",
        "      J = csr_matrix(J)\n",
        "      J = convertScipyToTensor(J)\n",
        "      J = J.to_dense()\n",
        "      zeros = csr_matrix(np.zeros((p,k)))\n",
        "      zeros = convertScipyToTensor(zeros)\n",
        "      zeros = zeros\n",
        "     \n",
        "      # X_tilde = X_tilde\n",
        "     \n",
        "      # P = P\n",
        "      eye = torch.eye(k)\n",
        "      # try:\n",
        "      #   theta = convertScipyToTensor(theta)\n",
        "      # except:\n",
        "      #   theta = theta\n",
        "      # try:\n",
        "      #   X = convertScipyToTensor(X)\n",
        "      #   X = X.to_dense()\n",
        "      # except:\n",
        "      #   X = X\n",
        "\n",
        "      \n",
        "\n",
        "      def update(X,P,i):\n",
        "          \n",
        "          global L\n",
        "          # print(\"Susi\")\n",
        "          theta_cP = theta_c@P #resultant will be k*p\n",
        "          # print(\"Susi\")\n",
        "          PT = torch.transpose(P,0,1)\n",
        "          XT = torch.transpose(Xd,0,1)\n",
        "          PX = P@X\n",
        "          t1 = PT@theta_cP + J #\n",
        "          term_bracket = torch.linalg.pinv(t1)\n",
        "          theta_cX = theta_cP@(X) # k*n\n",
        "          \n",
        "          L = 1/p\n",
        "\n",
        "          t1 = -2*gamma_param*(theta_cP@term_bracket) #k*p  ----confused\n",
        "          t2 = alpha_param*(PX-X_tilde)@(XT) #k*p\n",
        "          t3 = 2*theta_cX@(XT) #k*p\n",
        "          t4 = lambda_param*(P@ones) #k*p\n",
        "          t5 = 2*beta_param*(theta_cP@PT@theta_cP) #k*p\n",
        "          # t6 = alpha_param*(theta_cP)@(PT@theta_cP)\n",
        "          # t6 = lambda_param*(oness)\n",
        "          T2 = (t1+t2+t3+t4+t5)/L\n",
        "          # print(\"T2.shape\", T2.shape)\n",
        "          # print(\"P.shape\", P.shape)\n",
        "          Pnew = (P.to_dense() - T2.to_dense()).clamp_min(0)\n",
        "          # Pnew = (P-T2).maximum(zeros)\n",
        "          \n",
        "          t1 = PT@theta_cP*(2/alpha_param) #p*p\n",
        "          t2 = PT@P #p*p\n",
        "          t1 = torch.linalg.pinv(t1+t2) #p*p\n",
        "          t1 = t1@PT #p*k\n",
        "          t1 = t1@X_tilde #p*n ---dim of X\n",
        "          X_new = t1\n",
        "          Pnew[Pnew<thresh] = thresh\n",
        "          for i in range(len(Pnew)):\n",
        "              Pnew[i] = Pnew[i]/torch.linalg.norm(Pnew[i],1)\n",
        "          for i in range(len(X_new)):\n",
        "            X_new[i] = X_new[i]/torch.linalg.norm(X_new[i],1)\n",
        "          return X_new,Pnew\n",
        "\n",
        "\n",
        "      for i in tqdm(range(20)):\n",
        "          X,P = update(Xd,P,i)\n",
        "    \n",
        "      return Xd,P\n",
        "\n",
        "\n"
      ],
      "metadata": {
        "id": "T_er9L-ATg7O"
      },
      "execution_count": null,
      "outputs": []
    },
    {
      "cell_type": "code",
      "execution_count": null,
      "metadata": {
        "id": "rnKqrqAS9qmw"
      },
      "outputs": [],
      "source": [
        "import torch\n",
        "import torch.nn.functional as F\n",
        "from torch_geometric.nn import GCNConv\n",
        "\n",
        "\n",
        "class Net(torch.nn.Module):\n",
        "    def __init__(self):\n",
        "        super(Net, self).__init__()\n",
        "        self.conv1 = GCNConv(X.shape[1], 64)\n",
        "        self.conv2 = GCNConv(64, NO_OF_CLASSES)\n",
        "\n",
        "    def reset_parameters(self):\n",
        "        self.conv1.reset_parameters()\n",
        "        self.conv2.reset_parameters()\n",
        "\n",
        "    def forward(self, x, edge_index):\n",
        "\n",
        "        #print(\"Checking 1: x\", x.shape, \"Edge index:\", edge_index.shape)\n",
        "        x = self.conv1(x, edge_index)\n",
        "        #print(\"Checking 2: convolution done, new x:\", x.shape)\n",
        "        x = F.relu(x)\n",
        "        #print(\"Checking 3: x\", x.shape, \"training:\", self.training)\n",
        "        x = F.dropout(x, training=self.training)\n",
        "        #print(\"Checking 4: dropout done new x\", x.shape, \"Edge index:\", edge_index.shape)\n",
        "        x = self.conv2(x, edge_index)\n",
        "        #print(\"Checking 5: x\", x.shape)\n",
        "\n",
        "        return F.log_softmax(x, dim=1)\n",
        "\n"
      ]
    },
    {
      "cell_type": "code",
      "execution_count": null,
      "metadata": {
        "id": "StlALggCABGw"
      },
      "outputs": [],
      "source": [
        "from random import sample"
      ]
    },
    {
      "cell_type": "code",
      "execution_count": null,
      "metadata": {
        "id": "78DErAOL9vVT"
      },
      "outputs": [],
      "source": [
        "from torch_geometric.utils import dense_to_sparse,homophily\n",
        "\n",
        "def get_accuracy(C_0,L,X_t_0):\n",
        "    global labels, NO_OF_CLASSES,p\n",
        "    t=[]\n",
        "    for i in [1,2,3,4,5,6,7,8,9,10]: \n",
        "        C_0_new=np.zeros(C_0.shape)\n",
        "        for i in range(C_0.shape[0]):\n",
        "            C_0_new[i][np.argmax(C_0[i])]=1\n",
        "        # print(C_0_new)\n",
        "        # C_0_new=C_0\n",
        "        from scipy import sparse\n",
        "        #Lc=C_0.T@L@C_0\n",
        "        Lc=C_0_new.T@L@C_0_new\n",
        "        # print(\"L:\", Lc.shape)\n",
        "        # Lc=L_new\n",
        "        #print(Lc)\n",
        "        Wc=(-1*Lc)*(1-np.eye(Lc.shape[0]))\n",
        "        # print(\"W:\", Wc.shape)\n",
        "        Wc[Wc<0.1]=0\n",
        "        Wc=sparse.csr_matrix(Wc)\n",
        "        Wc = Wc.tocoo()\n",
        "        row = torch.from_numpy(Wc.row).to(torch.long)\n",
        "        col = torch.from_numpy(Wc.col).to(torch.long)\n",
        "        edge_index_coarsen2 = torch.stack([row, col], dim=0)\n",
        "        #print(\"edgecoarsen:\", edge_index_coarsen2.shape)\n",
        "        edge_weight = torch.from_numpy(Wc.data)\n",
        "        #print(\"edgeweight:\", edge_weight.shape)\n",
        "        def one_hot(x, class_count):\n",
        "            return torch.eye(class_count)[x, :]\n",
        "\n",
        "        device = torch.device('cpu')\n",
        "        labels=labels\n",
        "        Y = labels\n",
        "        #print(\"Y:\", Y.shape)\n",
        "        Y = one_hot(Y,NO_OF_CLASSES)\n",
        "        # NO_OF_CLASSES=Y.shape[1]\n",
        "        P=np.linalg.pinv(C_0_new)\n",
        "        labels_coarse = torch.argmax(torch.sparse.mm(torch.Tensor(P).double() , Y.double()).double() , 1)\n",
        "        #print(\"Lables:\", labels_coarse.shape)\n",
        "\n",
        "        #torch.Tensor(C2)@X\n",
        "        # Wc[Wc<0.01]=0\n",
        "        Wc=Wc.toarray()\n",
        "        adjtemp = torch.tensor(Wc)\n",
        "        edge_list_temp = dense_to_sparse(adjtemp)[0]\n",
        "        # print(edge_list_temp)\n",
        "        # print(labels_coarse)\n",
        "        print(\"Homophilic ratio : \" + str(homophily(edge_list_temp,labels_coarse,method='edge')))\n",
        "        number_of_edges = edge_list_temp.shape[1]\n",
        "        n = labels_coarse.shape[0]\n",
        "        sparsity = 2*number_of_edges/(n*(n-1))\n",
        "        print(\"Sparsity : \" + str(sparsity))\n",
        "    \n",
        "        #\n",
        "        C2=np.linalg.pinv(C_0_new)\n",
        "        model=Net().to(device)\n",
        "        device = torch.device('cpu')\n",
        "        lr=0.01\n",
        "        decay=0.0001\n",
        "        try:\n",
        "          X=np.array(features.todense())\n",
        "        except:\n",
        "          X = np.array(features)\n",
        "        #print(\"X:\",X.shape)\n",
        "        optimizer = torch.optim.Adam(model.parameters(), lr=lr, weight_decay=decay)\n",
        "        # criterion=torch.nn.CrossEntropyLoss()\n",
        "        x=sample(range(0, int(k)), k)\n",
        "      \n",
        "        from datetime import datetime\n",
        "        Xt=P@X\n",
        "        # Xt=X_t_0\n",
        "        def train():\n",
        "            model.train()\n",
        "            optimizer.zero_grad()\n",
        "            out = model(torch.Tensor(Xt).to(device),edge_index_coarsen2)\n",
        "            loss = F.nll_loss(out[x], labels_coarse[x])\n",
        "            loss.backward()\n",
        "            optimizer.step()\n",
        "            return loss\n",
        "        now1 = datetime.now()\n",
        "        losses=[]\n",
        "        for epoch in range(100):\n",
        "            loss=train()\n",
        "            losses.append(loss)\n",
        "            if(epoch%100==0):\n",
        "                print(f'Epoch: {epoch:03d},loss: {loss:.4f}')\n",
        "        now2 = datetime.now()        \n",
        "        pred=model(torch.Tensor(Xt).to(device),edge_index_coarsen2).argmax(dim=1)        \n",
        "        def train_accuracy():\n",
        "            model.eval()\n",
        "            correct = (pred[x] == labels_coarse[x]).sum()\n",
        "            acc = int(correct) /len(x)\n",
        "            return acc\n",
        "    \n",
        "        t+=[(now2-now1).total_seconds()]\n",
        "\n",
        "        zz=sample(range(0, int(NO_OF_NODES)), NO_OF_NODES)\n",
        "        Wc=sparse.csr_matrix(adj)\n",
        "        Wc = Wc.tocoo()\n",
        "        row = torch.from_numpy(Wc.row).to(torch.long)\n",
        "        col = torch.from_numpy(Wc.col).to(torch.long)\n",
        "        edge_index_coarsen = torch.stack([row, col], dim=0)\n",
        "        edge_weight = torch.from_numpy(Wc.data)\n",
        "        pred=model(torch.Tensor(X),edge_index_coarsen).argmax(dim=1)\n",
        "        pred=np.array(pred)\n",
        "        correct =(pred[zz]==labels[zz]).sum()\n",
        "        acc = int(correct) /NO_OF_NODES\n",
        "        return acc\n",
        "\n"
      ]
    },
    {
      "cell_type": "code",
      "execution_count": null,
      "metadata": {
        "id": "JMMDwcR7Jt3O"
      },
      "outputs": [],
      "source": [
        "from torch_geometric.utils import dense_to_sparse,homophily\n",
        "\n",
        "def getSparsityAndHomophily(C,theta):\n",
        "    theta = C.T@theta@C\n",
        "    adjtemp = -theta\n",
        "    for i in range(adjtemp.shape[0]):\n",
        "      adjtemp[i,i]=0\n",
        "    adjtemp[adjtemp<0.01]=0\n",
        "    temp = dense_to_sparse(adjtemp)\n",
        "    edge_list_temp = temp[0]\n",
        "    # ytemp = temp[1]\n",
        "    # P = torch.linalg.pinv(C)\n",
        "    # labels = \n",
        "    # # print(edge_list)\n",
        "    number_of_edges = edge_list_temp.shape[1]\n",
        "    # n = adjtemp.shape[0]\n",
        "\n",
        "    # print(\"Homophilic ratio : \" + str(homophily(edge_list_temp,ytemp,method='node')))\n",
        "    sparsity = 2*number_of_edges/(n*(n-1))\n",
        "    print(\"Sparsity : \" + str(sparsity))\n",
        "    "
      ]
    },
    {
      "cell_type": "code",
      "source": [
        "def getREE(E1,E2):\n",
        "    ree= 0\n",
        "    for i in range(len(E1)):\n",
        "      ree += torch.abs(E1[i]-E2[i])/torch.abs(E1[i])\n",
        "      # print(ree)\n",
        "    ree=(ree/len(E1))\n",
        "    # print(ree)\n",
        "    return(float(ree.item()))\n",
        "\n",
        "    "
      ],
      "metadata": {
        "id": "4CXLTm3jaQgj"
      },
      "execution_count": null,
      "outputs": []
    },
    {
      "cell_type": "code",
      "execution_count": null,
      "metadata": {
        "colab": {
          "base_uri": "https://localhost:8080/",
          "height": 408
        },
        "id": "ejPLG3L9zYrc",
        "outputId": "38e6125b-69e4-48e6-d87b-73cf34e8c8b6"
      },
      "outputs": [
        {
          "output_type": "stream",
          "name": "stderr",
          "text": [
            "100%|██████████| 20/20 [00:00<00:00, 22.90it/s]\n",
            "100%|██████████| 20/20 [00:01<00:00, 15.05it/s]\n"
          ]
        },
        {
          "output_type": "error",
          "ename": "ValueError",
          "evalue": "ignored",
          "traceback": [
            "\u001b[0;31m---------------------------------------------------------------------------\u001b[0m",
            "\u001b[0;31mValueError\u001b[0m                                Traceback (most recent call last)",
            "\u001b[0;32m<ipython-input-25-cc353f5fb76f>\u001b[0m in \u001b[0;36m<cell line: 17>\u001b[0;34m()\u001b[0m\n\u001b[1;32m    139\u001b[0m             \u001b[0mL\u001b[0m \u001b[0;34m=\u001b[0m \u001b[0mL\u001b[0m\u001b[0;34m\u001b[0m\u001b[0;34m\u001b[0m\u001b[0m\n\u001b[1;32m    140\u001b[0m \u001b[0;34m\u001b[0m\u001b[0m\n\u001b[0;32m--> 141\u001b[0;31m           \u001b[0macc\u001b[0m \u001b[0;34m=\u001b[0m \u001b[0mget_accuracy\u001b[0m\u001b[0;34m(\u001b[0m\u001b[0mp_t_0\u001b[0m\u001b[0;34m,\u001b[0m\u001b[0mL\u001b[0m\u001b[0;34m,\u001b[0m\u001b[0mX_0\u001b[0m\u001b[0;34m)\u001b[0m\u001b[0;34m\u001b[0m\u001b[0;34m\u001b[0m\u001b[0m\n\u001b[0m\u001b[1;32m    142\u001b[0m           \u001b[0mav\u001b[0m\u001b[0;34m.\u001b[0m\u001b[0mappend\u001b[0m\u001b[0;34m(\u001b[0m\u001b[0macc\u001b[0m\u001b[0;34m)\u001b[0m\u001b[0;34m\u001b[0m\u001b[0;34m\u001b[0m\u001b[0m\n\u001b[1;32m    143\u001b[0m           \u001b[0;31m# if(acc < 0.80):\u001b[0m\u001b[0;34m\u001b[0m\u001b[0;34m\u001b[0m\u001b[0m\n",
            "\u001b[0;32m<ipython-input-20-0b7275ecd2e2>\u001b[0m in \u001b[0;36mget_accuracy\u001b[0;34m(C_0, L, X_t_0)\u001b[0m\n\u001b[1;32m     12\u001b[0m         \u001b[0;32mfrom\u001b[0m \u001b[0mscipy\u001b[0m \u001b[0;32mimport\u001b[0m \u001b[0msparse\u001b[0m\u001b[0;34m\u001b[0m\u001b[0;34m\u001b[0m\u001b[0m\n\u001b[1;32m     13\u001b[0m         \u001b[0;31m#Lc=C_0.T@L@C_0\u001b[0m\u001b[0;34m\u001b[0m\u001b[0;34m\u001b[0m\u001b[0m\n\u001b[0;32m---> 14\u001b[0;31m         \u001b[0mLc\u001b[0m\u001b[0;34m=\u001b[0m\u001b[0mC_0_new\u001b[0m\u001b[0;34m.\u001b[0m\u001b[0mT\u001b[0m\u001b[0;34m@\u001b[0m\u001b[0mL\u001b[0m\u001b[0;34m@\u001b[0m\u001b[0mC_0_new\u001b[0m\u001b[0;34m\u001b[0m\u001b[0;34m\u001b[0m\u001b[0m\n\u001b[0m\u001b[1;32m     15\u001b[0m         \u001b[0;31m# print(\"L:\", Lc.shape)\u001b[0m\u001b[0;34m\u001b[0m\u001b[0;34m\u001b[0m\u001b[0m\n\u001b[1;32m     16\u001b[0m         \u001b[0;31m# Lc=L_new\u001b[0m\u001b[0;34m\u001b[0m\u001b[0;34m\u001b[0m\u001b[0m\n",
            "\u001b[0;31mValueError\u001b[0m: matmul: Input operand 1 does not have enough dimensions (has 0, gufunc core with signature (n?,k),(k,m?)->(n?,m?) requires 1)"
          ]
        }
      ],
      "source": [
        "import seaborn as sns\n",
        "import matplotlib.pylab as plt\n",
        "from torch_geometric.utils import dense_to_sparse,homophily\n",
        "        # sns.heatmap(C_0.T@C_0)\n",
        "        \n",
        "# concatenate the two tensors along dimension 0\n",
        "y = 10000.000\n",
        "gamma_param_min = 0\n",
        "alpha_param_min = 0\n",
        "beta_param_min = 0\n",
        "lambda_param_min = 0\n",
        "#0.0001,0.0001,10,0.0001\n",
        "# for lambda_param in [ 0.0001,0.001,1,0.01]:\n",
        "#   for beta_param in [ 0.0001,0.001,1,0.01]:\n",
        "#     for alpha_param in [  0.0001,0.001,1,0.01]:\n",
        "#       for gamma_param in [  0.0001,0.001,1,0.01]:\n",
        "for lambda_param in [100]:\n",
        "   for beta_param in [50]:\n",
        "     for alpha_param in [100]:\n",
        "       for gamma_param in [100]:\n",
        "\n",
        "        \n",
        "        # REE_f = []\n",
        "        for _ in range(1):\n",
        "\n",
        "          X_tilde = random(k, n, density=0.15, random_state=1, data_rvs=temp2.rvs)\n",
        "          C = random(p, k, density=0.15, random_state=1, data_rvs=temp2.rvs)\n",
        "\n",
        "          # try:\n",
        "\n",
        "          X_t_0,C_0 = experiment(lambda_param,beta_param,alpha_param,gamma_param,C,X_tilde,theta,X)\n",
        "          L = theta\n",
        "\n",
        "\n",
        "          Xd = random(p, n, density=0.15, random_state=1, data_rvs=temp2.rvs)\n",
        "          P = random(k, p, density=0.15, random_state=1, data_rvs=temp2.rvs)\n",
        "          X_tilde = X_t_0\n",
        "          theta_c = torch.transpose(C_0,0,1)@theta@C_0\n",
        "          # print(type(X_t_0))\n",
        "          Xd = convertScipyToTensor(Xd)\n",
        "          Xd = Xd.to_dense()\n",
        "          P = convertScipyToTensor(P)\n",
        "          P = P.to_dense()\n",
        "          X_0,P_0 = liftedexperiment(lambda_param,beta_param,alpha_param,gamma_param,P,Xd,theta_c,X_tilde)\n",
        "          \n",
        "\n",
        "          #Comparision between Original graph and coarsened graph feature matrix\n",
        "\n",
        "          U_t_0, S_t_0, V_t_0 = torch.svd(X) #original feature matrix\n",
        "          U_0, S_0, V_0 = torch.svd(X_0) #decoarsened feature matrix\n",
        "          S_0 = (S_0-S_0.mean())/(S_0.max())\n",
        "          S_t_0 = (S_t_0-S_t_0.mean())/(S_t_0.max())\n",
        "          U_t_c, S_t_c, V_t_c = torch.svd(X_t_0)#coarsened feature matrix\n",
        "          S_t_c = (S_t_c-S_t_c.mean())/(S_t_c.max())\n",
        "\n",
        "\n",
        "          #Comparision between Original graph and coarsened graph laplacian matrix\n",
        "          U_t_1, S_t_1, V_t_1 = torch.svd(theta) #original feature matrix\n",
        "          U_1, S_1, V_1 = torch.svd(torch.transpose(P_0,0,1)@theta_c@P_0) #decoarsened feature matrix\n",
        "          S_1 = (S_1-S_1.mean())/(S_1.max())\n",
        "          S_t_1 = (S_t_1-S_t_1.mean())/(S_t_1.max())\n",
        "          # U_t_c, S_t_c, V_t_c = torch.svd(X_t_0)#coarsened feature matrix\n",
        "          # S_t_c = (S_t_c-S_t_c.mean())/(S_t_c.max())\n",
        "\n",
        "\n",
        "\n",
        "          # print(\"decoarsened and coarsened\",(torch.transpose(P_0,0,1)@theta_c@P_0).shape,theta.shape)\n",
        "          # import matplotlib.pyplot as plt\n",
        "          # # Plot the top 100 eigenvalues of both the SVDs\n",
        "          # plt.plot(range(91), S_t_1[:91], label='original'  + \" \" + str(lambda_param)+\" \" + str(beta_param)+\" \"+str(alpha_param)+\" \"+str(gamma_param))\n",
        "          # plt.plot(range(91), S_1[:91], label='de coarsened')\n",
        "          # # plt.plot(range(91), S_t_1[:91], label='coarsened')\n",
        "          # plt.xlabel('Index')\n",
        "          # plt.ylabel('Eigenvalue')\n",
        "          # plt.title('Top 100 Eigenvalues of SVDs')\n",
        "          # plt.legend()\n",
        "          # plt.show()\n",
        "\n",
        "          \n",
        "\n",
        "\n",
        "          # print(\"decoarsened and coarsened\",X_0.shape,X_t_0.shape)\n",
        "          # import matplotlib.pyplot as plt\n",
        "          # # Plot the top 100 eigenvalues of both the SVDs\n",
        "          # plt.plot(range(91), S_t_0[:91], label='original')\n",
        "          # plt.plot(range(91), S_0[:91], label='de coarsened')\n",
        "          # plt.plot(range(91), S_t_c[:91], label='coarsened')\n",
        "          # plt.xlabel('Index')\n",
        "          # plt.ylabel('Eigenvalue')\n",
        "          # plt.title('Top 100 Eigenvalues of SVDs')\n",
        "          # plt.legend()\n",
        "          # plt.show()\n",
        "\n",
        "          # print(\"REE :  \"+  str(getREE(S_1,S_t_1)) + \" \" + str(lambda_param)+\" \" + str(beta_param)+\" \"+str(alpha_param)+\" \"+str(gamma_param))\n",
        "          \n",
        "          x = getREE(S_1,S_t_1)\n",
        "          \n",
        "          if(x<y):\n",
        "            # print(\"y\",y)\n",
        "            # print(\"x\",x)\n",
        "            # print(type(x),type(y))\n",
        "            y = x\n",
        "            # print(\"y_updated\",y, \"lambda\", lambda_param)\n",
        "            gamma_param_min = gamma_param\n",
        "            alpha_param_min = alpha_param\n",
        "            beta_param_min = beta_param\n",
        "            lambda_param_min = lambda_param\n",
        "\n",
        "\n",
        "          \n",
        "          # REE_f = REE_f.append(x)\n",
        "          # print(REE_f)\n",
        "\n",
        "\n",
        "          \n",
        "          Ltemp = (C_0.T)@theta@C_0\n",
        "          adjtemp = -Ltemp\n",
        "          for i in range(adjtemp.shape[0]):\n",
        "            adjtemp[i,i]=0\n",
        "          temp = dense_to_sparse(adjtemp)\n",
        "          edge_list_temp = temp[0]\n",
        "          ytemp = temp[1]\n",
        "          # print(edge_list)\n",
        "          number_of_edges = edge_list_temp.shape[0]\n",
        "          n = adjtemp.shape[0]\n",
        "\n",
        "          print(\"Homophilic ratio : \" + str(homophily(edge_list_temp,ytemp)))\n",
        "          sparsity = 2*number_of_edges/(n*(n-1))\n",
        "          print(\"Sparsity : \" + str(sparsity))\n",
        "          getSparsityAndHomophily(C_0,theta)\n",
        "\n",
        "          _0 = C_0.cpu().detach().numpy()\n",
        "          X_0 = X_0.cpu().detach().numpy()\n",
        "          p_t_0 = P_0.T\n",
        "          \n",
        "          try:\n",
        "            L = L.cpu().detach().numpy()\n",
        "          except:\n",
        "            L = L\n",
        "          \n",
        "          acc = get_accuracy(p_t_0,L,X_0)\n",
        "          av.append(acc)\n",
        "          # if(acc < 0.80):\n",
        "          #   break\n",
        "          print(\"Accuracy = \" + str(acc) + \" \" + str(lambda_param)+\" \" + str(beta_param)+\" \"+str(alpha_param)+\" \"+str(gamma_param))\n",
        "\n",
        "          # except:\n",
        "\n",
        "              # print(\"SVD DID NOT CONVERGE\")\n",
        "\n",
        "        print(\"Average accuracy = \" + str(np.mean(av)*100)  + \" +/- \" + str(np.std(av)*100)) \n",
        "     \n",
        "\n",
        "    # # X_t_0 = X_tilde\n",
        "    # # X = X.cpu().detach().numpy()\n",
        "print(\"min error \"+ str(y)+ \" \" + str(lambda_param_min)+\" \" + str(beta_param_min)+\" \"+str(alpha_param_min)+\" \"+str(gamma_param_min))"
      ]
    },
    {
      "cell_type": "code",
      "source": [
        "print(torch.transpose(P_0,0,1)@theta_c@P_0)"
      ],
      "metadata": {
        "id": "fe3yQ4w8NsZ4"
      },
      "execution_count": null,
      "outputs": []
    },
    {
      "cell_type": "code",
      "source": [
        "print(theta)"
      ],
      "metadata": {
        "colab": {
          "base_uri": "https://localhost:8080/"
        },
        "id": "u3rCtBpYOlbk",
        "outputId": "a4d2c8f5-943c-4cce-906a-06c7e092cd54"
      },
      "execution_count": null,
      "outputs": [
        {
          "output_type": "stream",
          "name": "stdout",
          "text": [
            "tensor([[5., 0., 0.,  ..., 0., 0., 0.],\n",
            "        [0., 0., 0.,  ..., 0., 0., 0.],\n",
            "        [0., 0., 1.,  ..., 0., 0., 0.],\n",
            "        ...,\n",
            "        [0., 0., 0.,  ..., 1., 0., 0.],\n",
            "        [0., 0., 0.,  ..., 0., 1., 0.],\n",
            "        [0., 0., 0.,  ..., 0., 0., 1.]])\n"
          ]
        }
      ]
    },
    {
      "cell_type": "code",
      "source": [
        "# U_t_1, S_t_1, V_t_1 = torch.svd(theta) #original feature matrix\n",
        "U_1, S_1, V_1 = torch.svd(torch.transpose(P_0,0,1)@theta_c@P_0) #decoarsened feature matrix\n",
        "\n",
        "U_t_1, S_t_1, V_t_1 = torch.svd(theta) #original feature matrix\n",
        "\n",
        "S_1 = (S_1-S_1.mean())/(S_1.max())\n",
        "S_t_1 = (S_t_1-S_t_1.mean())/(S_t_1.max())"
      ],
      "metadata": {
        "id": "yiMbJxeOug2p"
      },
      "execution_count": null,
      "outputs": []
    },
    {
      "cell_type": "code",
      "source": [
        "eigenvalues = np.linalg.eigvals(theta)"
      ],
      "metadata": {
        "id": "Kp4Tjotd0vYQ"
      },
      "execution_count": null,
      "outputs": []
    },
    {
      "cell_type": "code",
      "source": [
        "S_t_1 = np.sort(np.abs(eigenvalues[:]))[::-1]"
      ],
      "metadata": {
        "id": "Ze4mZeXKvHfb"
      },
      "execution_count": null,
      "outputs": []
    },
    {
      "cell_type": "code",
      "source": [
        "S_t_1 = (S_t_1-S_t_1.mean())/(S_t_1.max())"
      ],
      "metadata": {
        "id": "m-k4IF4OJkSy"
      },
      "execution_count": null,
      "outputs": []
    },
    {
      "cell_type": "code",
      "source": [
        "getREE(S_1,S_t_1)"
      ],
      "metadata": {
        "colab": {
          "base_uri": "https://localhost:8080/"
        },
        "id": "-3l6hLdWJ_ug",
        "outputId": "3a7244d4-e88d-4241-94ef-a9dbfe5eaa07"
      },
      "execution_count": null,
      "outputs": [
        {
          "output_type": "execute_result",
          "data": {
            "text/plain": [
              "39064.1171875"
            ]
          },
          "metadata": {},
          "execution_count": 46
        }
      ]
    },
    {
      "cell_type": "code",
      "source": [
        "import matplotlib.pyplot as plt\n",
        "# Plot the top 100 eigenvalues of both the SVDs\n",
        "plt.plot(range(len(S_t_1)), S_t_1[:], label='original'  + \" lambda \" + str(lambda_param_min)+\" beta \" + str(beta_param_min)+\" alpha \"+str(alpha_param_min)+\" gamma \"+str(gamma_param_min))\n",
        "plt.plot(range(len(S_t_1)), S_1[:], label='de coarsened')\n",
        "# plt.plot(range(91), S_t_1[:91], label='coarsened')\n",
        "plt.xlabel('Index')\n",
        "plt.ylabel('Eigenvalue')\n",
        "\n",
        "plt.title('Eigenvalues of laplacian matrices')\n",
        "plt.legend()\n",
        "plt.show()\n"
      ],
      "metadata": {
        "colab": {
          "base_uri": "https://localhost:8080/",
          "height": 472
        },
        "id": "0N9Y52-RXneT",
        "outputId": "6e9625a7-14f2-49fa-a3f9-b4c048b39218"
      },
      "execution_count": null,
      "outputs": [
        {
          "output_type": "display_data",
          "data": {
            "text/plain": [
              "<Figure size 640x480 with 1 Axes>"
            ],
            "image/png": "[encoded data removed]"
          },
          "metadata": {}
        }
      ]
    },
    {
      "cell_type": "code",
      "source": [
        "len(S_1)"
      ],
      "metadata": {
        "colab": {
          "base_uri": "https://localhost:8080/"
        },
        "id": "2rmqDKSyzP_c",
        "outputId": "6f965fe2-b6c7-4ebf-fb2b-d3fab129875d"
      },
      "execution_count": null,
      "outputs": [
        {
          "output_type": "execute_result",
          "data": {
            "text/plain": [
              "2703"
            ]
          },
          "metadata": {},
          "execution_count": 31
        }
      ]
    },
    {
      "cell_type": "code",
      "source": [
        "plt.plot(range(len(S_t_1)), S_t_1[:], label='original'  + \" \" + str(lambda_param)+\" \" + str(beta_param)+\" \"+str(alpha_param)+\" \"+str(gamma_param))\n",
        "plt.plot(range(len(S_1)), S_1[:], label='original'  + \" \" + str(lambda_param)+\" \" + str(beta_param)+\" \"+str(alpha_param)+\" \"+str(gamma_param))"
      ],
      "metadata": {
        "colab": {
          "base_uri": "https://localhost:8080/",
          "height": 448
        },
        "id": "jgpvCBLy0Aa2",
        "outputId": "23139da6-f345-49f5-e23b-e183e1c0b558"
      },
      "execution_count": null,
      "outputs": [
        {
          "output_type": "execute_result",
          "data": {
            "text/plain": [
              "[<matplotlib.lines.Line2D at 0x7f5112d49660>]"
            ]
          },
          "metadata": {},
          "execution_count": 42
        },
        {
          "output_type": "display_data",
          "data": {
            "text/plain": [
              "<Figure size 640x480 with 1 Axes>"
            ],
            "image/png": "[encoded data removed]"
          },
          "metadata": {}
        }
      ]
    },
    {
      "cell_type": "code",
      "source": [
        "torch.svd(torch.transpose(P_0,0,1)@theta_c@P_0)"
      ],
      "metadata": {
        "colab": {
          "base_uri": "https://localhost:8080/"
        },
        "id": "u89TfODUaWAh",
        "outputId": "753c05e3-87f0-4a95-ddd2-9d1efad00add"
      },
      "execution_count": null,
      "outputs": [
        {
          "output_type": "execute_result",
          "data": {
            "text/plain": [
              "torch.return_types.svd(\n",
              "U=tensor([[-0.0189, -0.0086, -0.0088,  ...,  0.0046,  0.0040, -0.0056],\n",
              "        [-0.0193, -0.0076,  0.0008,  ...,  0.0088, -0.0018, -0.0067],\n",
              "        [-0.0175, -0.0071, -0.0065,  ...,  0.0048,  0.0091, -0.0035],\n",
              "        ...,\n",
              "        [ 0.0113, -0.0388, -0.0421,  ...,  0.0087, -0.0090,  0.0050],\n",
              "        [-0.0163, -0.0123,  0.0106,  ...,  0.0113,  0.0146, -0.0124],\n",
              "        [-0.0122, -0.0267,  0.0046,  ..., -0.0503,  0.0407, -0.0049]]),\n",
              "S=tensor([5.7777e+00, 3.0612e-01, 4.3040e-03,  ..., 1.7555e-08, 1.0455e-08,\n",
              "        3.6098e-09]),\n",
              "V=tensor([[-0.0189, -0.0086, -0.0088,  ...,  0.0000,  0.0000,  0.0000],\n",
              "        [-0.0193, -0.0076,  0.0007,  ..., -0.0007,  0.0006,  0.0006],\n",
              "        [-0.0175, -0.0071, -0.0065,  ...,  0.0109, -0.0127, -0.0145],\n",
              "        ...,\n",
              "        [ 0.0113, -0.0388, -0.0421,  ..., -0.0229, -0.0279, -0.0118],\n",
              "        [-0.0163, -0.0123,  0.0106,  ..., -0.0123,  0.0055,  0.0114],\n",
              "        [-0.0122, -0.0267,  0.0046,  ..., -0.0098, -0.0101,  0.0014]]))"
            ]
          },
          "metadata": {},
          "execution_count": 30
        }
      ]
    },
    {
      "cell_type": "code",
      "source": [
        "U_t_1, S_t_1, V_t_1 = torch.svd(theta) #original feature matrix\n",
        "# U_1, S_1, V_1 = torch.svd(torch.transpose(P_0,0,1)@theta_c@P_0) #decoarsened feature matrix"
      ],
      "metadata": {
        "colab": {
          "base_uri": "https://localhost:8080/",
          "height": 189
        },
        "id": "_EYWFtKsbAef",
        "outputId": "d484595d-ff97-486b-e4b0-49998dfbafa1"
      },
      "execution_count": null,
      "outputs": [
        {
          "output_type": "error",
          "ename": "_LinAlgError",
          "evalue": "ignored",
          "traceback": [
            "\u001b[0;31m---------------------------------------------------------------------------\u001b[0m",
            "\u001b[0;31m_LinAlgError\u001b[0m                              Traceback (most recent call last)",
            "\u001b[0;32m<ipython-input-60-2afee637d5b7>\u001b[0m in \u001b[0;36m<cell line: 1>\u001b[0;34m()\u001b[0m\n\u001b[0;32m----> 1\u001b[0;31m \u001b[0mU_t_1\u001b[0m\u001b[0;34m,\u001b[0m \u001b[0mS_t_1\u001b[0m\u001b[0;34m,\u001b[0m \u001b[0mV_t_1\u001b[0m \u001b[0;34m=\u001b[0m \u001b[0mtorch\u001b[0m\u001b[0;34m.\u001b[0m\u001b[0msvd\u001b[0m\u001b[0;34m(\u001b[0m\u001b[0mtheta\u001b[0m\u001b[0;34m)\u001b[0m \u001b[0;31m#original feature matrix\u001b[0m\u001b[0;34m\u001b[0m\u001b[0;34m\u001b[0m\u001b[0m\n\u001b[0m\u001b[1;32m      2\u001b[0m \u001b[0;31m# U_1, S_1, V_1 = torch.svd(torch.transpose(P_0,0,1)@theta_c@P_0) #decoarsened feature matrix\u001b[0m\u001b[0;34m\u001b[0m\u001b[0;34m\u001b[0m\u001b[0m\n",
            "\u001b[0;31m_LinAlgError\u001b[0m: linalg.svd: The algorithm failed to converge because the input matrix is ill-conditioned or has too many repeated singular values (error code: 1)."
          ]
        }
      ]
    },
    {
      "cell_type": "code",
      "source": [
        "l0_norm = np.count_nonzero(theta)\n",
        "print(l0_norm)"
      ],
      "metadata": {
        "colab": {
          "base_uri": "https://localhost:8080/"
        },
        "id": "heum27D0bbQM",
        "outputId": "09178607-e7cf-4ebb-917f-46baeff8ff85"
      },
      "execution_count": null,
      "outputs": [
        {
          "output_type": "stream",
          "name": "stdout",
          "text": [
            "13264\n"
          ]
        }
      ]
    },
    {
      "cell_type": "code",
      "source": [
        "# Get the maximum value\n",
        "max_value = np.max(theta, axis =0)\n",
        "\n",
        "print(\"Maximum value:\", max_value)\n"
      ],
      "metadata": {
        "colab": {
          "base_uri": "https://localhost:8080/",
          "height": 487
        },
        "id": "UM6fei_UonEN",
        "outputId": "6715ccc1-16aa-4a47-acde-4900992ae969"
      },
      "execution_count": null,
      "outputs": [
        {
          "output_type": "error",
          "ename": "TypeError",
          "evalue": "ignored",
          "traceback": [
            "\u001b[0;31m---------------------------------------------------------------------------\u001b[0m",
            "\u001b[0;31mTypeError\u001b[0m                                 Traceback (most recent call last)",
            "\u001b[0;32m<ipython-input-23-0c048b3590f4>\u001b[0m in \u001b[0;36m<cell line: 2>\u001b[0;34m()\u001b[0m\n\u001b[1;32m      1\u001b[0m \u001b[0;31m# Get the maximum value\u001b[0m\u001b[0;34m\u001b[0m\u001b[0;34m\u001b[0m\u001b[0m\n\u001b[0;32m----> 2\u001b[0;31m \u001b[0mmax_value\u001b[0m \u001b[0;34m=\u001b[0m \u001b[0mnp\u001b[0m\u001b[0;34m.\u001b[0m\u001b[0mmax\u001b[0m\u001b[0;34m(\u001b[0m\u001b[0mtheta\u001b[0m\u001b[0;34m,\u001b[0m \u001b[0maxis\u001b[0m \u001b[0;34m=\u001b[0m\u001b[0;36m0\u001b[0m\u001b[0;34m)\u001b[0m\u001b[0;34m\u001b[0m\u001b[0;34m\u001b[0m\u001b[0m\n\u001b[0m\u001b[1;32m      3\u001b[0m \u001b[0;34m\u001b[0m\u001b[0m\n\u001b[1;32m      4\u001b[0m \u001b[0mprint\u001b[0m\u001b[0;34m(\u001b[0m\u001b[0;34m\"Maximum value:\"\u001b[0m\u001b[0;34m,\u001b[0m \u001b[0mmax_value\u001b[0m\u001b[0;34m)\u001b[0m\u001b[0;34m\u001b[0m\u001b[0;34m\u001b[0m\u001b[0m\n",
            "\u001b[0;32m/usr/local/lib/python3.10/dist-packages/numpy/core/overrides.py\u001b[0m in \u001b[0;36mamax\u001b[0;34m(*args, **kwargs)\u001b[0m\n",
            "\u001b[0;32m/usr/local/lib/python3.10/dist-packages/numpy/core/fromnumeric.py\u001b[0m in \u001b[0;36mamax\u001b[0;34m(a, axis, out, keepdims, initial, where)\u001b[0m\n\u001b[1;32m   2789\u001b[0m     \u001b[0;36m5\u001b[0m\u001b[0;34m\u001b[0m\u001b[0;34m\u001b[0m\u001b[0m\n\u001b[1;32m   2790\u001b[0m     \"\"\"\n\u001b[0;32m-> 2791\u001b[0;31m     return _wrapreduction(a, np.maximum, 'max', axis, None, out,\n\u001b[0m\u001b[1;32m   2792\u001b[0m                           keepdims=keepdims, initial=initial, where=where)\n\u001b[1;32m   2793\u001b[0m \u001b[0;34m\u001b[0m\u001b[0m\n",
            "\u001b[0;32m/usr/local/lib/python3.10/dist-packages/numpy/core/fromnumeric.py\u001b[0m in \u001b[0;36m_wrapreduction\u001b[0;34m(obj, ufunc, method, axis, dtype, out, **kwargs)\u001b[0m\n\u001b[1;32m     82\u001b[0m                 \u001b[0;32mreturn\u001b[0m \u001b[0mreduction\u001b[0m\u001b[0;34m(\u001b[0m\u001b[0maxis\u001b[0m\u001b[0;34m=\u001b[0m\u001b[0maxis\u001b[0m\u001b[0;34m,\u001b[0m \u001b[0mdtype\u001b[0m\u001b[0;34m=\u001b[0m\u001b[0mdtype\u001b[0m\u001b[0;34m,\u001b[0m \u001b[0mout\u001b[0m\u001b[0;34m=\u001b[0m\u001b[0mout\u001b[0m\u001b[0;34m,\u001b[0m \u001b[0;34m**\u001b[0m\u001b[0mpasskwargs\u001b[0m\u001b[0;34m)\u001b[0m\u001b[0;34m\u001b[0m\u001b[0;34m\u001b[0m\u001b[0m\n\u001b[1;32m     83\u001b[0m             \u001b[0;32melse\u001b[0m\u001b[0;34m:\u001b[0m\u001b[0;34m\u001b[0m\u001b[0;34m\u001b[0m\u001b[0m\n\u001b[0;32m---> 84\u001b[0;31m                 \u001b[0;32mreturn\u001b[0m \u001b[0mreduction\u001b[0m\u001b[0;34m(\u001b[0m\u001b[0maxis\u001b[0m\u001b[0;34m=\u001b[0m\u001b[0maxis\u001b[0m\u001b[0;34m,\u001b[0m \u001b[0mout\u001b[0m\u001b[0;34m=\u001b[0m\u001b[0mout\u001b[0m\u001b[0;34m,\u001b[0m \u001b[0;34m**\u001b[0m\u001b[0mpasskwargs\u001b[0m\u001b[0;34m)\u001b[0m\u001b[0;34m\u001b[0m\u001b[0;34m\u001b[0m\u001b[0m\n\u001b[0m\u001b[1;32m     85\u001b[0m \u001b[0;34m\u001b[0m\u001b[0m\n\u001b[1;32m     86\u001b[0m     \u001b[0;32mreturn\u001b[0m \u001b[0mufunc\u001b[0m\u001b[0;34m.\u001b[0m\u001b[0mreduce\u001b[0m\u001b[0;34m(\u001b[0m\u001b[0mobj\u001b[0m\u001b[0;34m,\u001b[0m \u001b[0maxis\u001b[0m\u001b[0;34m,\u001b[0m \u001b[0mdtype\u001b[0m\u001b[0;34m,\u001b[0m \u001b[0mout\u001b[0m\u001b[0;34m,\u001b[0m \u001b[0;34m**\u001b[0m\u001b[0mpasskwargs\u001b[0m\u001b[0;34m)\u001b[0m\u001b[0;34m\u001b[0m\u001b[0;34m\u001b[0m\u001b[0m\n",
            "\u001b[0;31mTypeError\u001b[0m: max() received an invalid combination of arguments - got (out=NoneType, axis=int, ), but expected one of:\n * ()\n * (Tensor other)\n * (int dim, bool keepdim)\n      didn't match because some of the keywords were incorrect: out, axis\n * (name dim, bool keepdim)\n      didn't match because some of the keywords were incorrect: out, axis\n"
          ]
        }
      ]
    },
    {
      "cell_type": "code",
      "source": [
        "# Reshape the tensor into a matrix\n",
        "matrix = theta.reshape(theta.shape[0], -1)\n",
        "\n",
        "# Compute the eigenvalues of the matrix\n",
        "eigenvalues = np.linalg.eigvals(matrix)\n",
        "\n",
        "print(\"Eigenvalues:\", (np.abs(eigenvalues[8:108])))"
      ],
      "metadata": {
        "colab": {
          "base_uri": "https://localhost:8080/"
        },
        "id": "R63NdcpCtgq3",
        "outputId": "2072c3be-195c-4222-a0e4-5c174a400d02"
      },
      "execution_count": null,
      "outputs": [
        {
          "output_type": "stream",
          "name": "stdout",
          "text": [
            "Eigenvalues: [100.04485    52.039223   36.306744   35.204075   31.46815    30.535675\n",
            "  29.278156   27.724566   24.586914   24.221756   22.589943   22.836136\n",
            "  22.155233   21.019348   20.778603   20.677284   19.522089   18.957264\n",
            "  18.72288    18.094923   18.012978   17.983418   17.634626   17.730476\n",
            "  17.38071    17.13838    17.09549    16.994778   16.652262   16.461586\n",
            "  16.447739   16.352432   16.247898   16.13197    16.086672   16.05102\n",
            "  15.883774   15.581944   15.386819   15.414569   15.021964   14.576668\n",
            "  14.423395   14.313269   14.173994   13.986881   13.8917055  13.698833\n",
            "  13.498093   13.38694    13.265742   13.236895   13.158797   13.154574\n",
            "  13.07437    13.050374   13.039609   12.806557   12.708285   12.654259\n",
            "  12.604245   12.420997   12.3838625  12.380384   12.373646   12.220299\n",
            "  12.328621   12.302326   12.127377   12.140332   12.138116   12.066971\n",
            "  11.990549   12.056841   11.775917   11.717916   11.677184   11.686904\n",
            "  12.         12.048107   11.648285   11.598378   11.587591   11.544124\n",
            "  11.411032   11.323605   11.343841   11.27179    11.246935   11.246248\n",
            "  11.204373   11.161731   11.1434355  11.056567   11.04574    10.972157\n",
            "  10.927313   10.943355   10.886196   10.834361 ]\n"
          ]
        }
      ]
    },
    {
      "cell_type": "code",
      "source": [
        "S_t_1 = (np.abs(eigenvalues[8:108])-np.abs(eigenvalues[8:108]).mean())/(np.abs(eigenvalues[8:108]).max())"
      ],
      "metadata": {
        "id": "dZcuokyjwa0G"
      },
      "execution_count": null,
      "outputs": []
    },
    {
      "cell_type": "code",
      "source": [
        "import matplotlib.pyplot as plt\n",
        "# Plot the top 100 eigenvalues of both the SVDs\n",
        "plt.plot(range(91), S_t_1[:91], label='original'  + \" \" + str(lambda_param)+\" \" + str(beta_param)+\" \"+str(alpha_param)+\" \"+str(gamma_param))\n",
        "plt.plot(range(91), S_1[:91], label='de coarsened')\n",
        "# plt.plot(range(91), S_t_1[:91], label='coarsened')\n",
        "plt.xlabel('Index')\n",
        "plt.ylabel('Eigenvalue')\n",
        "plt.title('Top 100 Eigenvalues of SVDs')\n",
        "plt.legend()\n",
        "plt.show()"
      ],
      "metadata": {
        "id": "tbHmPXcmyFlG",
        "outputId": "bad2dd7b-7a43-41e3-ee12-c6fdd2caf421",
        "colab": {
          "base_uri": "https://localhost:8080/",
          "height": 472
        }
      },
      "execution_count": null,
      "outputs": [
        {
          "output_type": "display_data",
          "data": {
            "text/plain": [
              "<Figure size 640x480 with 1 Axes>"
            ],
            "image/png": "[encoded data removed]"
          },
          "metadata": {}
        }
      ]
    },
    {
      "cell_type": "code",
      "source": [
        "# Sort the eigenvalues in descending order\n",
        "sorted_eigenvalues = np.sort(eigenvalues)\n",
        "print(sorted_eigenvalues[:10])\n",
        "\n",
        "# # Select the top 100 eigenvalues\n",
        "# top_100_eigenvalues = sorted_eigenvalues[:100]\n",
        "\n",
        "# # Calculate the multiplication of the top 100 eigenvalues\n",
        "# multiplication = np.prod(np.abs(top_100_eigenvalues))\n",
        "\n",
        "# print(\"Multiplication of top 100 eigenvalues:\", multiplication)"
      ],
      "metadata": {
        "colab": {
          "base_uri": "https://localhost:8080/"
        },
        "id": "6mYLR59puIdD",
        "outputId": "abe42107-0dca-4f95-b028-0e7b61c26c2f"
      },
      "execution_count": null,
      "outputs": [
        {
          "output_type": "stream",
          "name": "stdout",
          "text": [
            "[-6.5294623e-15+0.0000000e+00j -3.6549044e-15+0.0000000e+00j\n",
            " -2.0970653e-15-9.8757011e-16j -2.0970653e-15+9.8757011e-16j\n",
            " -2.0711995e-15-4.2240306e-17j -2.0711995e-15+4.2240306e-17j\n",
            " -1.8603048e-15+0.0000000e+00j -1.4927085e-15+0.0000000e+00j\n",
            " -1.3435759e-15+0.0000000e+00j -1.2897085e-15+0.0000000e+00j]\n"
          ]
        }
      ]
    },
    {
      "cell_type": "code",
      "source": [
        "theta.shape"
      ],
      "metadata": {
        "colab": {
          "base_uri": "https://localhost:8080/"
        },
        "id": "XnjD3SDWtH4C",
        "outputId": "c4dd2818-796b-4630-96fb-9f9b3787c69d"
      },
      "execution_count": null,
      "outputs": [
        {
          "output_type": "execute_result",
          "data": {
            "text/plain": [
              "torch.Size([2708, 2708])"
            ]
          },
          "metadata": {},
          "execution_count": 25
        }
      ]
    },
    {
      "cell_type": "code",
      "source": [
        "import networkx as nx\n",
        "import matplotlib.pyplot as plt\n",
        "\n",
        "# create a sample graph\n",
        "# G = nx.Graph()\n",
        "# G.add_nodes_from([1, 2, 3, 4, 5])\n",
        "# G.add_edges_from([(1, 2), (2, 3), (3, 4), (4, 5), (5, 1)])\n",
        "\n",
        "# plot the graph\n",
        "pos = nx.spring_layout(dataset)  # position nodes using Fruchterman-Reingold force-directed algorithm\n",
        "nx.draw_networkx_nodes(dataset, pos, node_color='r', node_size=500)\n",
        "nx.draw_networkx_edges(dataset, pos, edge_color='b', width=2)\n",
        "nx.draw_networkx_labels(dataset, pos, font_size=12, font_family='sans-serif')\n",
        "plt.axis('off')\n",
        "plt.show()"
      ],
      "metadata": {
        "id": "u2Hu6Csd80bg",
        "colab": {
          "base_uri": "https://localhost:8080/",
          "height": 450
        },
        "outputId": "a4ec8c97-86e1-4191-9ea7-34cb6e579284"
      },
      "execution_count": null,
      "outputs": [
        {
          "output_type": "error",
          "ename": "ValueError",
          "evalue": "ignored",
          "traceback": [
            "\u001b[0;31m---------------------------------------------------------------------------\u001b[0m",
            "\u001b[0;31mTypeError\u001b[0m                                 Traceback (most recent call last)",
            "\u001b[0;32m/usr/local/lib/python3.10/dist-packages/networkx/classes/graph.py\u001b[0m in \u001b[0;36madd_nodes_from\u001b[0;34m(self, nodes_for_adding, **attr)\u001b[0m\n\u001b[1;32m    625\u001b[0m             \u001b[0;32mtry\u001b[0m\u001b[0;34m:\u001b[0m\u001b[0;34m\u001b[0m\u001b[0;34m\u001b[0m\u001b[0m\n\u001b[0;32m--> 626\u001b[0;31m                 \u001b[0mnewnode\u001b[0m \u001b[0;34m=\u001b[0m \u001b[0mn\u001b[0m \u001b[0;32mnot\u001b[0m \u001b[0;32min\u001b[0m \u001b[0mself\u001b[0m\u001b[0;34m.\u001b[0m\u001b[0m_node\u001b[0m\u001b[0;34m\u001b[0m\u001b[0;34m\u001b[0m\u001b[0m\n\u001b[0m\u001b[1;32m    627\u001b[0m                 \u001b[0mnewdict\u001b[0m \u001b[0;34m=\u001b[0m \u001b[0mattr\u001b[0m\u001b[0;34m\u001b[0m\u001b[0;34m\u001b[0m\u001b[0m\n",
            "\u001b[0;31mTypeError\u001b[0m: unhashable type: 'Data'",
            "\nDuring handling of the above exception, another exception occurred:\n",
            "\u001b[0;31mValueError\u001b[0m                                Traceback (most recent call last)",
            "\u001b[0;32m<ipython-input-59-1923499d898c>\u001b[0m in \u001b[0;36m<cell line: 10>\u001b[0;34m()\u001b[0m\n\u001b[1;32m      8\u001b[0m \u001b[0;34m\u001b[0m\u001b[0m\n\u001b[1;32m      9\u001b[0m \u001b[0;31m# plot the graph\u001b[0m\u001b[0;34m\u001b[0m\u001b[0;34m\u001b[0m\u001b[0m\n\u001b[0;32m---> 10\u001b[0;31m \u001b[0mpos\u001b[0m \u001b[0;34m=\u001b[0m \u001b[0mnx\u001b[0m\u001b[0;34m.\u001b[0m\u001b[0mspring_layout\u001b[0m\u001b[0;34m(\u001b[0m\u001b[0mdataset\u001b[0m\u001b[0;34m)\u001b[0m  \u001b[0;31m# position nodes using Fruchterman-Reingold force-directed algorithm\u001b[0m\u001b[0;34m\u001b[0m\u001b[0;34m\u001b[0m\u001b[0m\n\u001b[0m\u001b[1;32m     11\u001b[0m \u001b[0mnx\u001b[0m\u001b[0;34m.\u001b[0m\u001b[0mdraw_networkx_nodes\u001b[0m\u001b[0;34m(\u001b[0m\u001b[0mdataset\u001b[0m\u001b[0;34m,\u001b[0m \u001b[0mpos\u001b[0m\u001b[0;34m,\u001b[0m \u001b[0mnode_color\u001b[0m\u001b[0;34m=\u001b[0m\u001b[0;34m'r'\u001b[0m\u001b[0;34m,\u001b[0m \u001b[0mnode_size\u001b[0m\u001b[0;34m=\u001b[0m\u001b[0;36m500\u001b[0m\u001b[0;34m)\u001b[0m\u001b[0;34m\u001b[0m\u001b[0;34m\u001b[0m\u001b[0m\n\u001b[1;32m     12\u001b[0m \u001b[0mnx\u001b[0m\u001b[0;34m.\u001b[0m\u001b[0mdraw_networkx_edges\u001b[0m\u001b[0;34m(\u001b[0m\u001b[0mdataset\u001b[0m\u001b[0;34m,\u001b[0m \u001b[0mpos\u001b[0m\u001b[0;34m,\u001b[0m \u001b[0medge_color\u001b[0m\u001b[0;34m=\u001b[0m\u001b[0;34m'b'\u001b[0m\u001b[0;34m,\u001b[0m \u001b[0mwidth\u001b[0m\u001b[0;34m=\u001b[0m\u001b[0;36m2\u001b[0m\u001b[0;34m)\u001b[0m\u001b[0;34m\u001b[0m\u001b[0;34m\u001b[0m\u001b[0m\n",
            "\u001b[0;32m/usr/local/lib/python3.10/dist-packages/networkx/utils/decorators.py\u001b[0m in \u001b[0;36margmap_spring_layout_1\u001b[0;34m(G, k, pos, fixed, iterations, threshold, weight, scale, center, dim, seed)\u001b[0m\n\u001b[1;32m      2\u001b[0m \u001b[0;32mimport\u001b[0m \u001b[0mcollections\u001b[0m\u001b[0;34m\u001b[0m\u001b[0;34m\u001b[0m\u001b[0m\n\u001b[1;32m      3\u001b[0m \u001b[0;32mimport\u001b[0m \u001b[0mgzip\u001b[0m\u001b[0;34m\u001b[0m\u001b[0;34m\u001b[0m\u001b[0m\n\u001b[0;32m----> 4\u001b[0;31m \u001b[0;32mimport\u001b[0m \u001b[0minspect\u001b[0m\u001b[0;34m\u001b[0m\u001b[0;34m\u001b[0m\u001b[0m\n\u001b[0m\u001b[1;32m      5\u001b[0m \u001b[0;32mimport\u001b[0m \u001b[0mitertools\u001b[0m\u001b[0;34m\u001b[0m\u001b[0;34m\u001b[0m\u001b[0m\n\u001b[1;32m      6\u001b[0m \u001b[0;32mimport\u001b[0m \u001b[0mre\u001b[0m\u001b[0;34m\u001b[0m\u001b[0;34m\u001b[0m\u001b[0m\n",
            "\u001b[0;32m/usr/local/lib/python3.10/dist-packages/networkx/drawing/layout.py\u001b[0m in \u001b[0;36mspring_layout\u001b[0;34m(G, k, pos, fixed, iterations, threshold, weight, scale, center, dim, seed)\u001b[0m\n\u001b[1;32m    441\u001b[0m     \u001b[0;32mimport\u001b[0m \u001b[0mnumpy\u001b[0m \u001b[0;32mas\u001b[0m \u001b[0mnp\u001b[0m\u001b[0;34m\u001b[0m\u001b[0;34m\u001b[0m\u001b[0m\n\u001b[1;32m    442\u001b[0m \u001b[0;34m\u001b[0m\u001b[0m\n\u001b[0;32m--> 443\u001b[0;31m     \u001b[0mG\u001b[0m\u001b[0;34m,\u001b[0m \u001b[0mcenter\u001b[0m \u001b[0;34m=\u001b[0m \u001b[0m_process_params\u001b[0m\u001b[0;34m(\u001b[0m\u001b[0mG\u001b[0m\u001b[0;34m,\u001b[0m \u001b[0mcenter\u001b[0m\u001b[0;34m,\u001b[0m \u001b[0mdim\u001b[0m\u001b[0;34m)\u001b[0m\u001b[0;34m\u001b[0m\u001b[0;34m\u001b[0m\u001b[0m\n\u001b[0m\u001b[1;32m    444\u001b[0m \u001b[0;34m\u001b[0m\u001b[0m\n\u001b[1;32m    445\u001b[0m     \u001b[0;32mif\u001b[0m \u001b[0mfixed\u001b[0m \u001b[0;32mis\u001b[0m \u001b[0;32mnot\u001b[0m \u001b[0;32mNone\u001b[0m\u001b[0;34m:\u001b[0m\u001b[0;34m\u001b[0m\u001b[0;34m\u001b[0m\u001b[0m\n",
            "\u001b[0;32m/usr/local/lib/python3.10/dist-packages/networkx/drawing/layout.py\u001b[0m in \u001b[0;36m_process_params\u001b[0;34m(G, center, dim)\u001b[0m\n\u001b[1;32m     43\u001b[0m     \u001b[0;32mif\u001b[0m \u001b[0;32mnot\u001b[0m \u001b[0misinstance\u001b[0m\u001b[0;34m(\u001b[0m\u001b[0mG\u001b[0m\u001b[0;34m,\u001b[0m \u001b[0mnx\u001b[0m\u001b[0;34m.\u001b[0m\u001b[0mGraph\u001b[0m\u001b[0;34m)\u001b[0m\u001b[0;34m:\u001b[0m\u001b[0;34m\u001b[0m\u001b[0;34m\u001b[0m\u001b[0m\n\u001b[1;32m     44\u001b[0m         \u001b[0mempty_graph\u001b[0m \u001b[0;34m=\u001b[0m \u001b[0mnx\u001b[0m\u001b[0;34m.\u001b[0m\u001b[0mGraph\u001b[0m\u001b[0;34m(\u001b[0m\u001b[0;34m)\u001b[0m\u001b[0;34m\u001b[0m\u001b[0;34m\u001b[0m\u001b[0m\n\u001b[0;32m---> 45\u001b[0;31m         \u001b[0mempty_graph\u001b[0m\u001b[0;34m.\u001b[0m\u001b[0madd_nodes_from\u001b[0m\u001b[0;34m(\u001b[0m\u001b[0mG\u001b[0m\u001b[0;34m)\u001b[0m\u001b[0;34m\u001b[0m\u001b[0;34m\u001b[0m\u001b[0m\n\u001b[0m\u001b[1;32m     46\u001b[0m         \u001b[0mG\u001b[0m \u001b[0;34m=\u001b[0m \u001b[0mempty_graph\u001b[0m\u001b[0;34m\u001b[0m\u001b[0;34m\u001b[0m\u001b[0m\n\u001b[1;32m     47\u001b[0m \u001b[0;34m\u001b[0m\u001b[0m\n",
            "\u001b[0;32m/usr/local/lib/python3.10/dist-packages/networkx/classes/graph.py\u001b[0m in \u001b[0;36madd_nodes_from\u001b[0;34m(self, nodes_for_adding, **attr)\u001b[0m\n\u001b[1;32m    627\u001b[0m                 \u001b[0mnewdict\u001b[0m \u001b[0;34m=\u001b[0m \u001b[0mattr\u001b[0m\u001b[0;34m\u001b[0m\u001b[0;34m\u001b[0m\u001b[0m\n\u001b[1;32m    628\u001b[0m             \u001b[0;32mexcept\u001b[0m \u001b[0mTypeError\u001b[0m\u001b[0;34m:\u001b[0m\u001b[0;34m\u001b[0m\u001b[0;34m\u001b[0m\u001b[0m\n\u001b[0;32m--> 629\u001b[0;31m                 \u001b[0mn\u001b[0m\u001b[0;34m,\u001b[0m \u001b[0mndict\u001b[0m \u001b[0;34m=\u001b[0m \u001b[0mn\u001b[0m\u001b[0;34m\u001b[0m\u001b[0;34m\u001b[0m\u001b[0m\n\u001b[0m\u001b[1;32m    630\u001b[0m                 \u001b[0mnewnode\u001b[0m \u001b[0;34m=\u001b[0m \u001b[0mn\u001b[0m \u001b[0;32mnot\u001b[0m \u001b[0;32min\u001b[0m \u001b[0mself\u001b[0m\u001b[0;34m.\u001b[0m\u001b[0m_node\u001b[0m\u001b[0;34m\u001b[0m\u001b[0;34m\u001b[0m\u001b[0m\n\u001b[1;32m    631\u001b[0m                 \u001b[0mnewdict\u001b[0m \u001b[0;34m=\u001b[0m \u001b[0mattr\u001b[0m\u001b[0;34m.\u001b[0m\u001b[0mcopy\u001b[0m\u001b[0;34m(\u001b[0m\u001b[0;34m)\u001b[0m\u001b[0;34m\u001b[0m\u001b[0;34m\u001b[0m\u001b[0m\n",
            "\u001b[0;31mValueError\u001b[0m: too many values to unpack (expected 2)"
          ]
        }
      ]
    },
    {
      "cell_type": "code",
      "source": [
        "import networkx as nx\n",
        "import matplotlib.pyplot as plt\n",
        "from torch_geometric.datasets import WebKB\n",
        "\n",
        "# Load the WebKB Texas dataset\n",
        "dataset = WebKB(root='/Texas', name='Texas')\n",
        "\n",
        "# Get the graph data from the dataset\n",
        "data = dataset[0]\n",
        "\n",
        "# Extract the necessary information for plotting\n",
        "edge_index = data.edge_index\n",
        "# Additional node or edge attributes can be accessed from data.x or data.edge_attr, if available\n",
        "\n",
        "# Create a NetworkX graph object\n",
        "G = nx.Graph()\n",
        "\n",
        "# Add edges to the graph\n",
        "G.add_edges_from(edge_index.t().tolist())\n",
        "\n",
        "# Plot the graph\n",
        "pos = nx.spring_layout(G)\n",
        "nx.draw_networkx(G, pos, with_labels=False, edge_color='b', width=2)\n",
        "plt.show()\n"
      ],
      "metadata": {
        "id": "gHOv_Ouwt85O",
        "colab": {
          "base_uri": "https://localhost:8080/",
          "height": 406
        },
        "outputId": "fcf59391-725e-402a-d1e5-2f0d576eddb7"
      },
      "execution_count": null,
      "outputs": [
        {
          "output_type": "display_data",
          "data": {
            "text/plain": [
              "<Figure size 640x480 with 1 Axes>"
            ],
            "image/png": "[encoded data removed]"
          },
          "metadata": {}
        }
      ]
    },
    {
      "cell_type": "code",
      "source": [],
      "metadata": {
        "id": "rU3vJdXjJCaH"
      },
      "execution_count": null,
      "outputs": []
    }
  ],
  "metadata": {
    "accelerator": "GPU",
    "colab": {
      "provenance": []
    },
    "gpuClass": "standard",
    "kernelspec": {
      "display_name": "FGC",
      "language": "python",
      "name": "python3"
    },
    "language_info": {
      "codemirror_mode": {
        "name": "ipython",
        "version": 3
      },
      "file_extension": ".py",
      "mimetype": "text/x-python",
      "name": "python",
      "nbconvert_exporter": "python",
      "pygments_lexer": "ipython3",
      "version": "3.10.8"
    },
    "vscode": {
      "interpreter": {
        "hash": "969efddd5922f42744441fca4a7e1e35c9b91771f089e8346c81a80fe202b860"
      }
    }
  },
  "nbformat": 4,
  "nbformat_minor": 0
}